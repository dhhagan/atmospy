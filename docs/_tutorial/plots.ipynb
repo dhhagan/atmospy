{
 "cells": [
  {
   "cell_type": "raw",
   "metadata": {},
   "source": [
    ".. _plots:\n",
    "\n",
    ".. currentmodule:: atmospy\n",
    "\n",
    "Plotting Functions\n",
    "===================\n",
    "\n",
    "Atmospy is a library for making useful, professional figures for atmospheric chemistry and air \n",
    "quality professionals. It is built on top of `matplotlib <https://matplotlib.org/>`_, \n",
    "`pandas <https://pandas.pydata.org/>`_, and `seaborn <https://seaborn.pydata.org>`_. Below, \n",
    "we will walk through examples of how to use atmospy and how you can extend it with \n",
    "seaborn and matplotlib."
   ]
  },
  {
   "cell_type": "code",
   "execution_count": null,
   "metadata": {},
   "outputs": [],
   "source": [
    "import atmospy\n",
    "import pandas as pd\n",
    "import numpy as np\n",
    "import seaborn as sns\n",
    "import matplotlib.pyplot as plt\n",
    "\n",
    "atmospy.set_theme()"
   ]
  },
  {
   "cell_type": "markdown",
   "metadata": {},
   "source": [
    "## Comparing Data from Multiple Sensors\n",
    "\n",
    "Often, we find the need to compare multiple variables against one another. In the air sensor world, this may be the regression of two variables against one another or one air sensor against a reference sensor. Using the \n",
    "`atmospy.regplot`, we can easily plot the regression between two variables, fit a linear model, and display \n",
    "the fit parameters on the figure itself:"
   ]
  },
  {
   "cell_type": "code",
   "execution_count": null,
   "metadata": {},
   "outputs": [],
   "source": [
    "df = atmospy.load_dataset(\"air-sensors-pm\")\n",
    "\n",
    "# plot the Reference measurement vs Sensor A using defaults\n",
    "atmospy.regplot(df, x=\"Reference\", y=\"Sensor A\");"
   ]
  },
  {
   "cell_type": "markdown",
   "metadata": {},
   "source": [
    "Under the hood, `atmospy.regplot` is simply making a call to seaborn's `jointplot` function with a few added pieces including adding a unity line and displaying the fit parameters for the linear model in the legend. \n",
    "\n",
    "The call returns a seaborn `JointGrid` which is a group of subplots. As seen above, the joint axis shows the relationship between the two variables with a unity line (1:1), the best fit line (shown in solid blue above), and the distributions for each variables shown on the marginal axes. \n",
    "\n",
    "If for some reason, you *don't* want to fit a linear model to the data, you can turn that functionality off by setting `fit_reg=False`:"
   ]
  },
  {
   "cell_type": "code",
   "execution_count": null,
   "metadata": {},
   "outputs": [],
   "source": [
    "atmospy.regplot(df, x=\"Reference\", y=\"Sensor A\", fit_reg=False);"
   ]
  },
  {
   "cell_type": "markdown",
   "metadata": {},
   "source": [
    "Because we're just making a call to seaborn's `jointplot` function, you can send along most configuration options as keyword arguments to `atmospy.regplot`. For example, if you wanted to change what is shown on the marginal axes, you can:"
   ]
  },
  {
   "cell_type": "code",
   "execution_count": null,
   "metadata": {},
   "outputs": [],
   "source": [
    "atmospy.regplot(df, x=\"Reference\", y=\"Sensor A\", marginal_kws={\"bins\": 25, \"fill\": False});"
   ]
  },
  {
   "cell_type": "markdown",
   "metadata": {},
   "source": [
    "A `JointGrid` object is returned, which allows you to continue customizing as you'd like:"
   ]
  },
  {
   "cell_type": "code",
   "execution_count": null,
   "metadata": {},
   "outputs": [],
   "source": [
    "g = atmospy.regplot(df, x=\"Reference\", y=\"Sensor A\")\n",
    "g.plot_marginals(sns.rugplot, color='r', height=-0.15, clip_on=False);"
   ]
  },
  {
   "cell_type": "markdown",
   "metadata": {},
   "source": [
    "You can easily edit the marker choice, color of marker, or anything else as well:"
   ]
  },
  {
   "cell_type": "code",
   "execution_count": null,
   "metadata": {},
   "outputs": [],
   "source": [
    "atmospy.regplot(df, x=\"Reference\", y=\"Sensor A\", color='g', marker=\"^\", alpha=.15);"
   ]
  },
  {
   "cell_type": "markdown",
   "metadata": {},
   "source": [
    "## Evaluating Trends"
   ]
  },
  {
   "cell_type": "code",
   "execution_count": null,
   "metadata": {},
   "outputs": [],
   "source": [
    "bc = atmospy.load_dataset(\"us-bc\")\n",
    "\n",
    "# Select just a single location\n",
    "single_bc = bc[bc[\"Location UUID\"] == bc[\"Location UUID\"].unique()[0]]\n",
    "\n",
    "atmospy.calendarplot(data=single_bc, x=\"Timestamp GMT\", y=\"Sample Measurement\")"
   ]
  },
  {
   "cell_type": "markdown",
   "metadata": {},
   "source": [
    "## Identifying Sources"
   ]
  },
  {
   "cell_type": "code",
   "execution_count": null,
   "metadata": {},
   "outputs": [],
   "source": [
    "met = atmospy.load_dataset(\"air-sensors-met\")\n",
    "\n",
    "atmospy.pollutionroseplot(data=met, ws=\"ws\", wd=\"wd\", pollutant=\"pm25\")"
   ]
  },
  {
   "cell_type": "markdown",
   "metadata": {},
   "source": [
    "- Comparing data   \n",
    "- evaluating trends\n",
    "-   diel\n",
    "-   calendar\n",
    "- where is it coming from?"
   ]
  }
 ],
 "metadata": {
  "kernelspec": {
   "display_name": "python3",
   "name": "python3"
  },
  "language_info": {
   "codemirror_mode": {
    "name": "ipython",
    "version": 3
   },
   "file_extension": ".py",
   "mimetype": "text/x-python",
   "name": "python",
   "nbconvert_exporter": "python",
   "pygments_lexer": "ipython3",
   "version": "3.10.6"
  }
 },
 "nbformat": 4,
 "nbformat_minor": 2
}
