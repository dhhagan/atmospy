{
 "cells": [
  {
   "cell_type": "raw",
   "metadata": {},
   "source": [
    ".. _plots:\n",
    "\n",
    ".. currentmodule:: atmospy\n",
    "\n",
    "Plotting Functions\n",
    "===================\n",
    "\n",
    "Atmospy is a library for making useful, professional figures for atmospheric chemistry and air \n",
    "quality professionals. It is built on top of `matplotlib <https://matplotlib.org/>`_, \n",
    "`pandas <https://pandas.pydata.org/>`_, and `seaborn <https://seaborn.pydata.org>`_. Below, \n",
    "we will walk through examples of how to use atmospy and how you can extend it with \n",
    "seaborn and matplotlib."
   ]
  },
  {
   "cell_type": "code",
   "execution_count": null,
   "metadata": {},
   "outputs": [],
   "source": [
    "import atmospy\n",
    "import pandas as pd\n",
    "import numpy as np\n",
    "import seaborn as sns\n",
    "import matplotlib.pyplot as plt\n",
    "\n",
    "atmospy.set_theme()"
   ]
  },
  {
   "cell_type": "markdown",
   "metadata": {},
   "source": [
    "## Comparing Data from Multiple Sensors\n",
    "\n",
    "Often, we find the need to compare multiple variables against one another. In the air sensor world, this may be the regression of two variables against one another or one air sensor against a reference sensor. Using the \n",
    "`atmospy.regplot`, we can easily plot the regression between two variables, fit a linear model, and display \n",
    "the fit parameters on the figure itself:"
   ]
  },
  {
   "cell_type": "code",
   "execution_count": null,
   "metadata": {},
   "outputs": [],
   "source": [
    "df = atmospy.load_dataset(\"air-sensors-pm\")\n",
    "\n",
    "# plot the Reference measurement vs Sensor A using defaults\n",
    "atmospy.regplot(df, x=\"Reference\", y=\"Sensor A\");"
   ]
  },
  {
   "cell_type": "markdown",
   "metadata": {},
   "source": [
    "Under the hood, `atmospy.regplot` is simply making a call to seaborn's `jointplot` function with a few added pieces including adding a unity line and displaying the fit parameters for the linear model in the legend. \n",
    "\n",
    "The call returns a seaborn `JointGrid` which is a group of subplots. As seen above, the joint axis shows the relationship between the two variables with a unity line (1:1), the best fit line (shown in solid blue above), and the distributions for each variables shown on the marginal axes. \n",
    "\n",
    "If for some reason, you *don't* want to fit a linear model to the data, you can turn that functionality off by setting `fit_reg=False`:"
   ]
  },
  {
   "cell_type": "code",
   "execution_count": null,
   "metadata": {},
   "outputs": [],
   "source": [
    "atmospy.regplot(df, x=\"Reference\", y=\"Sensor A\", fit_reg=False);"
   ]
  },
  {
   "cell_type": "markdown",
   "metadata": {},
   "source": [
    "Because we're just making a call to seaborn's `jointplot` function, you can send along most configuration options as keyword arguments to `atmospy.regplot`. For example, if you wanted to change what is shown on the marginal axes, you can:"
   ]
  },
  {
   "cell_type": "code",
   "execution_count": null,
   "metadata": {},
   "outputs": [],
   "source": [
    "atmospy.regplot(df, x=\"Reference\", y=\"Sensor A\", \n",
    "                marginal_kws={\"bins\": 25, \"fill\": False});"
   ]
  },
  {
   "cell_type": "markdown",
   "metadata": {},
   "source": [
    "A `JointGrid` object is returned, which allows you to continue customizing as you'd like:"
   ]
  },
  {
   "cell_type": "code",
   "execution_count": null,
   "metadata": {},
   "outputs": [],
   "source": [
    "g = atmospy.regplot(df, x=\"Reference\", y=\"Sensor A\")\n",
    "g.plot_marginals(sns.rugplot, color='r', height=-0.15, clip_on=False);"
   ]
  },
  {
   "cell_type": "markdown",
   "metadata": {},
   "source": [
    "You can easily edit the marker choice, color of marker, or anything else as well:"
   ]
  },
  {
   "cell_type": "code",
   "execution_count": null,
   "metadata": {},
   "outputs": [],
   "source": [
    "atmospy.regplot(df, x=\"Reference\", y=\"Sensor A\", color='g', marker=\"^\", alpha=.15);"
   ]
  },
  {
   "cell_type": "markdown",
   "metadata": {},
   "source": [
    "## Evaluating Trends\n",
    "\n",
    "While we often look at timeseries data to visualize trends, it can be difficult to easily detect trends with large - or long-running - datasets. Often, it can be easier to look at hourly or daily averages. The `calendarplot` function makes it easy to visualize hourly data by month or daily data by year.\n",
    "\n",
    "### Visualizing hourly data by month\n",
    "\n",
    "Some pollutants - such as ozone - have known diurnal patterns due to the photochemical processing of precursor pollutants during the day. Others, such as carbon monoxide and other combustion-related pollutants, may show strong patterns associated with traffic patterns if near a source. Visualizing hourly data can make it easy to identify trends."
   ]
  },
  {
   "cell_type": "code",
   "execution_count": null,
   "metadata": {},
   "outputs": [],
   "source": [
    "ozone = atmospy.load_dataset(\"us-ozone\")\n",
    "\n",
    "# we only want to use a single site for now\n",
    "single_site = ozone[ozone[\"Location UUID\"] == ozone[\"Location UUID\"].unique()[0]]"
   ]
  },
  {
   "cell_type": "code",
   "execution_count": null,
   "metadata": {},
   "outputs": [],
   "source": [
    "atmospy.calendarplot(\n",
    "    data=single_site, \n",
    "    x=\"Timestamp Local\", \n",
    "    y=\"Sample Measurement\", \n",
    "    freq=\"hour\",\n",
    ");"
   ]
  },
  {
   "cell_type": "markdown",
   "metadata": {},
   "source": [
    "The figure above shows the time of day on the y-axis and the day of month on the x-axis. By looking across the figure from left-to-right, you can quickly see that ozone - for the most part - is higher between 12-6PM than during the early morning. However, the figure above - using the defaults - doesn't look super appealing, so let's go ahead and modify it a bit to make it larger, explicitly set the min and max values, and chage to a different color palette:"
   ]
  },
  {
   "cell_type": "code",
   "execution_count": null,
   "metadata": {},
   "outputs": [],
   "source": [
    "atmospy.calendarplot(\n",
    "    data=single_site, \n",
    "    x=\"Timestamp Local\", \n",
    "    y=\"Sample Measurement\", \n",
    "    freq=\"hour\",\n",
    "    xlabel=\"Day of Month\",\n",
    "    height=4,\n",
    "    cmap=\"flare\",\n",
    "    vmin=0, vmax=80,\n",
    "    title=\"Ozone in [Month]\"\n",
    ");"
   ]
  },
  {
   "cell_type": "markdown",
   "metadata": {},
   "source": [
    "Much better! By default, we aggregate data by the `mean` value. We can also change that up to plot by another aggregate, such as the `max`:"
   ]
  },
  {
   "cell_type": "code",
   "execution_count": null,
   "metadata": {},
   "outputs": [],
   "source": [
    "atmospy.calendarplot(\n",
    "    data=single_site, \n",
    "    x=\"Timestamp Local\", \n",
    "    y=\"Sample Measurement\", \n",
    "    freq=\"hour\",\n",
    "    xlabel=\"Day of Month\",\n",
    "    height=4,\n",
    "    cmap=\"flare\",\n",
    "    vmin=0, vmax=80,\n",
    "    title=\"Peak Ozone in [Month]\",\n",
    "    agg=\"max\"\n",
    ");"
   ]
  },
  {
   "cell_type": "markdown",
   "metadata": {},
   "source": [
    "In this instance, there isn't much of a difference as the data is reported hourly, so the mean and max will be the same (oops). With a more highly time-resolved dataset, this would look a bit different."
   ]
  },
  {
   "cell_type": "markdown",
   "metadata": {},
   "source": [
    "### Visualizing daily data over the course of a year\n",
    "\n",
    "We can also visualize daily data over the course of the year - be default, we plot the daily average for the pollutant of choice:"
   ]
  },
  {
   "cell_type": "code",
   "execution_count": null,
   "metadata": {},
   "outputs": [],
   "source": [
    "atmospy.calendarplot(\n",
    "    data=single_site, \n",
    "    x=\"Timestamp Local\", \n",
    "    y=\"Sample Measurement\", \n",
    "    freq=\"day\",\n",
    "    cbar=False,\n",
    "    # xlabel=\"Day of Month\",\n",
    "    height=2.5,\n",
    "    linewidths=.1\n",
    ");"
   ]
  },
  {
   "cell_type": "markdown",
   "metadata": {},
   "source": [
    "You end up with a nice visualization of long-term data that looks a lot like a GitHub contribution graph. It would be even better if we chose a dataset that is complete!"
   ]
  },
  {
   "cell_type": "markdown",
   "metadata": {},
   "source": [
    "### Visualizing data completeness\n",
    "\n",
    "While we mostly plot the trend in pollutant concentration, we can easily adapt the same figures to plot data completeness by simply switching the `agg` argument from `mean` to `count`:\n"
   ]
  },
  {
   "cell_type": "code",
   "execution_count": null,
   "metadata": {},
   "outputs": [],
   "source": [
    "atmospy.calendarplot(\n",
    "    data=single_site, \n",
    "    x=\"Timestamp Local\", \n",
    "    y=\"Sample Measurement\", \n",
    "    freq=\"hour\",\n",
    "    xlabel=\"Day of Month\",\n",
    "    height=4,\n",
    "    cmap=\"flare\",\n",
    "    vmin=0, vmax=1,\n",
    "    title=\"Ozone Data Completeness in [Month]\",\n",
    "    agg=\"count\"\n",
    ");"
   ]
  },
  {
   "cell_type": "markdown",
   "metadata": {},
   "source": [
    "### Visualizing diel trends\n",
    "\n",
    "A diel cycle is a pattern that recurs every 24h. Often, we see diel trends with pollutants that are driven by daytime chemistry such as ozone or are associated with traffic patterns such as carbon monoxide, nitrogen oxides, and other combustion tracers. We can easily visualize the diel trend using the `atmospy.dielplot` function:"
   ]
  },
  {
   "cell_type": "code",
   "execution_count": null,
   "metadata": {},
   "outputs": [],
   "source": [
    "atmospy.dielplot(\n",
    "    data=single_site,\n",
    "    x=\"Timestamp Local\",\n",
    "    y=\"Sample Measurement\"\n",
    ")"
   ]
  },
  {
   "cell_type": "markdown",
   "metadata": {},
   "source": [
    "By default, we plot the mean value as a solid line and the interquartile range as the shaded region. We can also customize the figure to adjust the axis, add a title, and otherwise configure the plot via keyword arguments:"
   ]
  },
  {
   "cell_type": "code",
   "execution_count": null,
   "metadata": {},
   "outputs": [],
   "source": [
    "atmospy.dielplot(\n",
    "    data=single_site,\n",
    "    x=\"Timestamp Local\",\n",
    "    y=\"Sample Measurement\",\n",
    "    title=\"Diel Trend in Ozone\",\n",
    "    ylim=(0, None),\n",
    "    ylabel=\"$O_3\\;[ppb]$\",\n",
    "    plot_kws={\n",
    "        \"lw\": 4,\n",
    "    }\n",
    ");"
   ]
  },
  {
   "cell_type": "markdown",
   "metadata": {},
   "source": [
    "## Identifying Sources\n",
    "\n",
    "Understanding from which direction a pollutant originated is a common question in air pollution work. A pollution rose - a variant of the more common wind rose - is one way to visualize this. A pollution rose is a polar plot that visualizes the originating direction and intensity of a specific pollutant. In atmospy, you can use the `atmospy.pollutionroseplot` to visualize this:"
   ]
  },
  {
   "cell_type": "code",
   "execution_count": null,
   "metadata": {},
   "outputs": [],
   "source": [
    "# load an example dataset with MET info\n",
    "met = atmospy.load_dataset(\"air-sensors-met\")\n",
    "\n",
    "atmospy.pollutionroseplot(data=met, ws=\"ws\", wd=\"wd\", pollutant=\"pm25\");"
   ]
  },
  {
   "cell_type": "markdown",
   "metadata": {},
   "source": [
    "Data for the pollutant of choice are grouped by both the range of pollutant (as set by `bins`) and by wind direction (as set by `segments`). To ensure that data is not included when the wind speed is calm (as set by `calm`), we first remove that data and indicate on the figure above using the blank center point at the middle of the figure - we assign calm periods evenly across all directions. In the figure above, something like a few percent of data records are registered as *calm*.\n",
    "\n",
    "This is important because wind direction data during calm winds isn't really relevant and/or statistically significant depending on the instrument used to measure the wind speed and wind direction.\n",
    "\n",
    "In the figure above, the longer the bar, the more data records that are associated with it - in other words, that is the direction from which most data came. The color of a bar indicates the pollutant concentration. In the figure above, most of the PM2.5 is coming from the south-west and south-east. With the pollutant bin sizes set so large, it's hard to see a pollution differential, so let's go ahead and modify that:"
   ]
  },
  {
   "cell_type": "code",
   "execution_count": null,
   "metadata": {},
   "outputs": [],
   "source": [
    "atmospy.pollutionroseplot(\n",
    "    data=met,\n",
    "    ws=\"ws\", wd=\"wd\", pollutant=\"pm25\",\n",
    "    bins=[0, 8, 15, 25, 35, 50, 100],\n",
    "    segments=32,\n",
    "    suffix=\"$µgm^{-3}$\",\n",
    "    title=\"$PM_{2.5}$ by Direction at an Unknown Location\"\n",
    ");"
   ]
  },
  {
   "cell_type": "markdown",
   "metadata": {},
   "source": [
    "The above figure has quite a bit more resolution along both the theta and radii as we modified the `bins` and `segments` parameters. You can define `bins` to be any array-like structure so long as they're numeric and the function will always add `inf` at the end if you didn't include it so that there is always a catch-all bin for values higher than the max specified. You can manually define this list to be whatever resolution or chunkiness you'd like, or, you can create an evenly-spaced array using numpy: `np.linspace(0, 100, 10)`. \n",
    "\n",
    "The `segments` parameter is a bit different - you define an integer number of segments to divide the 360 degrees into and the code will automatically handle it.\n",
    "\n",
    "Above, we went ahead and showed some of the additional configuration options that you can include such as the `suffix`, which labels the legend, and the `title` which adds a title to the figure. "
   ]
  },
  {
   "cell_type": "markdown",
   "metadata": {},
   "source": [
    "# Facets and other Fun Things\n",
    "\n",
    "Now that you've seen how to use the individual plots above, we're going to go over some of the advanced features that are available by leveraging seaborn's great grid functionality."
   ]
  },
  {
   "cell_type": "markdown",
   "metadata": {},
   "source": []
  }
 ],
 "metadata": {
  "kernelspec": {
   "display_name": "python3",
   "name": "python3"
  },
  "language_info": {
   "codemirror_mode": {
    "name": "ipython",
    "version": 3
   },
   "file_extension": ".py",
   "mimetype": "text/x-python",
   "name": "python",
   "nbconvert_exporter": "python",
   "pygments_lexer": "ipython3",
   "version": "3.10.6"
  }
 },
 "nbformat": 4,
 "nbformat_minor": 2
}
